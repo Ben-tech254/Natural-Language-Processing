{
  "cells": [
    {
      "cell_type": "markdown",
      "metadata": {
        "id": "view-in-github",
        "colab_type": "text"
      },
      "source": [
        "<a href=\"https://colab.research.google.com/github/Ben-tech254/Natural-Language-Processing/blob/main/Sentiment_analysis_NLP.ipynb\" target=\"_parent\"><img src=\"https://colab.research.google.com/assets/colab-badge.svg\" alt=\"Open In Colab\"/></a>"
      ]
    },
    {
      "cell_type": "code",
      "execution_count": null,
      "metadata": {
        "colab": {
          "base_uri": "https://localhost:8080/",
          "height": 667,
          "referenced_widgets": [
            "c269a2f99d8f4f9e9b90fe9c42426539",
            "8f8d3fc65ac74c15b4f28d2fa9903e4e",
            "948f11267e7e4c81817ccee25d6031b5",
            "1e4c6e09a0d84329ad15b6232a9911f9",
            "8dc5bf19ddc6444eabdd989e45432e96",
            "556c6ab0cd334476b7470179093c72d9",
            "113e6035067142c7981668acb96bfdda",
            "947a2b49e77542499ed376417975b1ea",
            "d4fbf7a244414cfaa9ebf2928da9d700",
            "b82b5f50e3204e0a82b6c67e7d74c3de",
            "b3651e7eaa104621a768057c4c517ec7"
          ]
        },
        "id": "1jHDogKr3QZE",
        "outputId": "eefd326a-0140-41f3-c163-e2eaca694e81"
      },
      "outputs": [
        {
          "name": "stderr",
          "output_type": "stream",
          "text": [
            "Some weights of DistilBertForSequenceClassification were not initialized from the model checkpoint at distilbert-base-uncased and are newly initialized: ['classifier.bias', 'classifier.weight', 'pre_classifier.bias', 'pre_classifier.weight']\n",
            "You should probably TRAIN this model on a down-stream task to be able to use it for predictions and inference.\n"
          ]
        },
        {
          "data": {
            "application/vnd.jupyter.widget-view+json": {
              "model_id": "c269a2f99d8f4f9e9b90fe9c42426539",
              "version_major": 2,
              "version_minor": 0
            },
            "text/plain": [
              "Map:   0%|          | 0/10 [00:00<?, ? examples/s]"
            ]
          },
          "metadata": {},
          "output_type": "display_data"
        },
        {
          "data": {
            "application/javascript": [
              "\n",
              "        window._wandbApiKey = new Promise((resolve, reject) => {\n",
              "            function loadScript(url) {\n",
              "            return new Promise(function(resolve, reject) {\n",
              "                let newScript = document.createElement(\"script\");\n",
              "                newScript.onerror = reject;\n",
              "                newScript.onload = resolve;\n",
              "                document.body.appendChild(newScript);\n",
              "                newScript.src = url;\n",
              "            });\n",
              "            }\n",
              "            loadScript(\"https://cdn.jsdelivr.net/npm/postmate/build/postmate.min.js\").then(() => {\n",
              "            const iframe = document.createElement('iframe')\n",
              "            iframe.style.cssText = \"width:0;height:0;border:none\"\n",
              "            document.body.appendChild(iframe)\n",
              "            const handshake = new Postmate({\n",
              "                container: iframe,\n",
              "                url: 'https://wandb.ai/authorize'\n",
              "            });\n",
              "            const timeout = setTimeout(() => reject(\"Couldn't auto authenticate\"), 5000)\n",
              "            handshake.then(function(child) {\n",
              "                child.on('authorize', data => {\n",
              "                    clearTimeout(timeout)\n",
              "                    resolve(data)\n",
              "                });\n",
              "            });\n",
              "            })\n",
              "        });\n",
              "    "
            ],
            "text/plain": [
              "<IPython.core.display.Javascript object>"
            ]
          },
          "metadata": {},
          "output_type": "display_data"
        },
        {
          "name": "stderr",
          "output_type": "stream",
          "text": [
            "\u001b[34m\u001b[1mwandb\u001b[0m: Logging into wandb.ai. (Learn how to deploy a W&B server locally: https://wandb.me/wandb-server)\n",
            "\u001b[34m\u001b[1mwandb\u001b[0m: You can find your API key in your browser here: https://wandb.ai/authorize?ref=models\n",
            "wandb: Paste an API key from your profile and hit enter:"
          ]
        },
        {
          "name": "stdout",
          "output_type": "stream",
          "text": [
            " ··········\n"
          ]
        },
        {
          "name": "stderr",
          "output_type": "stream",
          "text": [
            "\u001b[34m\u001b[1mwandb\u001b[0m: \u001b[33mWARNING\u001b[0m If you're specifying your api key in code, ensure this code is not shared publicly.\n",
            "\u001b[34m\u001b[1mwandb\u001b[0m: \u001b[33mWARNING\u001b[0m Consider setting the WANDB_API_KEY environment variable, or running `wandb login` from the command line.\n",
            "\u001b[34m\u001b[1mwandb\u001b[0m: No netrc file found, creating one.\n",
            "\u001b[34m\u001b[1mwandb\u001b[0m: Appending key for api.wandb.ai to your netrc file: /root/.netrc\n",
            "\u001b[34m\u001b[1mwandb\u001b[0m: Currently logged in as: \u001b[33mbenronoh254\u001b[0m (\u001b[33mbenronoh254-university-of-eldoret\u001b[0m) to \u001b[32mhttps://api.wandb.ai\u001b[0m. Use \u001b[1m`wandb login --relogin`\u001b[0m to force relogin\n"
          ]
        },
        {
          "data": {
            "text/html": [
              "Tracking run with wandb version 0.19.11"
            ],
            "text/plain": [
              "<IPython.core.display.HTML object>"
            ]
          },
          "metadata": {},
          "output_type": "display_data"
        },
        {
          "data": {
            "text/html": [
              "Run data is saved locally in <code>/content/wandb/run-20250518_130611-5gap26cr</code>"
            ],
            "text/plain": [
              "<IPython.core.display.HTML object>"
            ]
          },
          "metadata": {},
          "output_type": "display_data"
        },
        {
          "data": {
            "text/html": [
              "Syncing run <strong><a href='https://wandb.ai/benronoh254-university-of-eldoret/huggingface/runs/5gap26cr' target=\"_blank\">./results</a></strong> to <a href='https://wandb.ai/benronoh254-university-of-eldoret/huggingface' target=\"_blank\">Weights & Biases</a> (<a href='https://wandb.me/developer-guide' target=\"_blank\">docs</a>)<br>"
            ],
            "text/plain": [
              "<IPython.core.display.HTML object>"
            ]
          },
          "metadata": {},
          "output_type": "display_data"
        },
        {
          "data": {
            "text/html": [
              " View project at <a href='https://wandb.ai/benronoh254-university-of-eldoret/huggingface' target=\"_blank\">https://wandb.ai/benronoh254-university-of-eldoret/huggingface</a>"
            ],
            "text/plain": [
              "<IPython.core.display.HTML object>"
            ]
          },
          "metadata": {},
          "output_type": "display_data"
        },
        {
          "data": {
            "text/html": [
              " View run at <a href='https://wandb.ai/benronoh254-university-of-eldoret/huggingface/runs/5gap26cr' target=\"_blank\">https://wandb.ai/benronoh254-university-of-eldoret/huggingface/runs/5gap26cr</a>"
            ],
            "text/plain": [
              "<IPython.core.display.HTML object>"
            ]
          },
          "metadata": {},
          "output_type": "display_data"
        },
        {
          "data": {
            "text/html": [
              "\n",
              "    <div>\n",
              "      \n",
              "      <progress value='6' max='6' style='width:300px; height:20px; vertical-align: middle;'></progress>\n",
              "      [6/6 01:34, Epoch 3/3]\n",
              "    </div>\n",
              "    <table border=\"1\" class=\"dataframe\">\n",
              "  <thead>\n",
              " <tr style=\"text-align: left;\">\n",
              "      <th>Step</th>\n",
              "      <th>Training Loss</th>\n",
              "    </tr>\n",
              "  </thead>\n",
              "  <tbody>\n",
              "  </tbody>\n",
              "</table><p>"
            ],
            "text/plain": [
              "<IPython.core.display.HTML object>"
            ]
          },
          "metadata": {},
          "output_type": "display_data"
        },
        {
          "name": "stderr",
          "output_type": "stream",
          "text": [
            "No model was supplied, defaulted to distilbert/distilbert-base-uncased-finetuned-sst-2-english and revision 714eb0f (https://huggingface.co/distilbert/distilbert-base-uncased-finetuned-sst-2-english).\n",
            "Using a pipeline without specifying a model name and revision in production is not recommended.\n",
            "Device set to use cpu\n"
          ]
        },
        {
          "name": "stdout",
          "output_type": "stream",
          "text": [
            "Sentence: The espresso was rich and smooth. Great service too! | Sentiment: POSITIVE, Score: 0.999830961227417\n",
            "Sentence: It was okay, but nothing special. | Sentiment: NEGATIVE, Score: 0.9898498058319092\n",
            "Sentence: My latte was cold and the staff ignored me. | Sentiment: NEGATIVE, Score: 0.9995538592338562\n",
            "Sentence: Loved the cozy ambiance and friendly baristas! | Sentiment: POSITIVE, Score: 0.9998699426651001\n",
            "Sentence: Coffee was fine, but the music was too loud. | Sentiment: NEGATIVE, Score: 0.9980465173721313\n",
            "Sentence: Terrible experience. I waited 20 minutes for a black coffee. | Sentiment: NEGATIVE, Score: 0.9993807077407837\n",
            "Sentence: The muffins were fresh and delicious. Will come again. | Sentiment: POSITIVE, Score: 0.9998772144317627\n",
            "Sentence: Just average. Nothing stood out. | Sentiment: NEGATIVE, Score: 0.997368574142456\n",
            "Sentence: The place was dirty and my drink tasted burnt. | Sentiment: NEGATIVE, Score: 0.9994113445281982\n",
            "Sentence: Super friendly staff and quick service! | Sentiment: POSITIVE, Score: 0.9995760321617126\n"
          ]
        }
      ],
      "source": [
        "#Finetuning a model\n",
        "from transformers import Trainer, TrainingArguments, AutoModelForSequenceClassification, AutoTokenizer\n",
        "from datasets import Dataset\n",
        "\n",
        "# Data\n",
        "reviews = [\n",
        "    (\"The espresso was rich and smooth. Great service too!\", 1),\n",
        "    (\"It was okay, but nothing special.\", 0),\n",
        "    (\"My latte was cold and the staff ignored me.\", 0),\n",
        "    (\"Loved the cozy ambiance and friendly baristas!\", 1),\n",
        "    (\"Coffee was fine, but the music was too loud.\", 0),\n",
        "    (\"Terrible experience. I waited 20 minutes for a black coffee.\", 0),\n",
        "    (\"The muffins were fresh and delicious. Will come again.\", 1),\n",
        "    (\"Just average. Nothing stood out.\", 0),\n",
        "    (\"The place was dirty and my drink tasted burnt.\", 0),\n",
        "    (\"Super friendly staff and quick service!\", 1)\n",
        "]\n",
        "\n",
        "# Prepare dataset\n",
        "dataset = Dataset.from_dict({\n",
        "    'text': [review[0] for review in reviews],\n",
        "    'label': [review[1] for review in reviews]\n",
        "})\n",
        "\n",
        "# Model setup\n",
        "model_name = \"distilbert-base-uncased\"\n",
        "tokenizer = AutoTokenizer.from_pretrained(model_name)\n",
        "model = AutoModelForSequenceClassification.from_pretrained(model_name, num_labels=2)\n",
        "\n",
        "# Tokenize\n",
        "tokenized_data = dataset.map(\n",
        "    lambda x: tokenizer(x[\"text\"], padding=\"max_length\", truncation=True),\n",
        "    batched=True\n",
        ")\n",
        "\n",
        "# Training\n",
        "trainer = Trainer(\n",
        "    model=model,\n",
        "    args=TrainingArguments(\n",
        "        output_dir='./results',\n",
        "        num_train_epochs=3,\n",
        "    ),\n",
        "    train_dataset=tokenized_data,\n",
        "    eval_dataset=tokenized_data\n",
        ")\n",
        "\n",
        "trainer.train()\n",
        "\n",
        "\n",
        "#Importing the off-the-shelf model\n",
        "from transformers import pipeline\n",
        "sentiment_pipeline = pipeline(\"sentiment-analysis\")\n",
        "sentences = [\n",
        "\"The espresso was rich and smooth. Great service too!\",\n",
        "\"It was okay, but nothing special.\",\n",
        "\"My latte was cold and the staff ignored me.\",\n",
        "\"Loved the cozy ambiance and friendly baristas!\",\n",
        "\"Coffee was fine, but the music was too loud.\",\n",
        "\"Terrible experience. I waited 20 minutes for a black coffee.\",\n",
        "\"The muffins were fresh and delicious. Will come again.\",\n",
        "\"Just average. Nothing stood out.\",\n",
        "\"The place was dirty and my drink tasted burnt.\",\n",
        "\"Super friendly staff and quick service!\"\n",
        "]\n",
        "results = sentiment_pipeline(sentences)\n",
        "for sentence, result in zip(sentences, results):\n",
        "  print(f\"Sentence: {sentence} | Sentiment: {result['label']}, Score: {result['score']}\")\n"
      ]
    },
    {
      "cell_type": "code",
      "execution_count": null,
      "metadata": {
        "colab": {
          "base_uri": "https://localhost:8080/",
          "height": 279,
          "referenced_widgets": [
            "afd398ace2de45a18425c8a1dc500a1e",
            "a4046d41783c45ea86e2c1b9b5be35b0",
            "d63bdf54fc52405582a5cede7c2721f5",
            "d7fe9306dcd449cfb0c0c1d463bc4ace",
            "6fd0c400dd7c4fc592e766c8c14132dd",
            "5ae7ac87d79d4406ba28d671b31c1064",
            "c159744307324a73a42dbd4ffa96e9f0",
            "256de8923c34452388f1053e74cfed56",
            "7586e907d02e41abba5e36c9b0ce1261",
            "72ab993a1dd34910b7a327796100e92c",
            "f6b74f8319cb460f96767192f9c9e15e"
          ]
        },
        "id": "3dtucRb7-Agp",
        "outputId": "1828fdd5-f623-49f8-f569-a605917b437e"
      },
      "outputs": [
        {
          "name": "stderr",
          "output_type": "stream",
          "text": [
            "Some weights of DistilBertForSequenceClassification were not initialized from the model checkpoint at distilbert-base-uncased and are newly initialized: ['classifier.bias', 'classifier.weight', 'pre_classifier.bias', 'pre_classifier.weight']\n",
            "You should probably TRAIN this model on a down-stream task to be able to use it for predictions and inference.\n"
          ]
        },
        {
          "data": {
            "application/vnd.jupyter.widget-view+json": {
              "model_id": "afd398ace2de45a18425c8a1dc500a1e",
              "version_major": 2,
              "version_minor": 0
            },
            "text/plain": [
              "Map:   0%|          | 0/4 [00:00<?, ? examples/s]"
            ]
          },
          "metadata": {},
          "output_type": "display_data"
        },
        {
          "data": {
            "text/html": [
              "\n",
              "    <div>\n",
              "      \n",
              "      <progress value='6' max='6' style='width:300px; height:20px; vertical-align: middle;'></progress>\n",
              "      [6/6 00:55, Epoch 3/3]\n",
              "    </div>\n",
              "    <table border=\"1\" class=\"dataframe\">\n",
              "  <thead>\n",
              " <tr style=\"text-align: left;\">\n",
              "      <th>Step</th>\n",
              "      <th>Training Loss</th>\n",
              "    </tr>\n",
              "  </thead>\n",
              "  <tbody>\n",
              "  </tbody>\n",
              "</table><p>"
            ],
            "text/plain": [
              "<IPython.core.display.HTML object>"
            ]
          },
          "metadata": {},
          "output_type": "display_data"
        },
        {
          "name": "stderr",
          "output_type": "stream",
          "text": [
            "Some weights of DistilBertForSequenceClassification were not initialized from the model checkpoint at distilbert-base-uncased and are newly initialized: ['classifier.bias', 'classifier.weight', 'pre_classifier.bias', 'pre_classifier.weight']\n",
            "You should probably TRAIN this model on a down-stream task to be able to use it for predictions and inference.\n",
            "Device set to use cpu\n",
            "Device set to use cpu\n"
          ]
        },
        {
          "name": "stdout",
          "output_type": "stream",
          "text": [
            "Original: [{'label': 'LABEL_0', 'score': 0.5303387641906738}]\n",
            "Fine-tuned: [{'label': 'LABEL_1', 'score': 0.6260868310928345}]\n"
          ]
        }
      ],
      "source": [
        "#Finetuning a model\n",
        "\n",
        "# Load dataset\n",
        "from datasets import Dataset\n",
        "from transformers import AutoTokenizer, AutoModelForSequenceClassification, Trainer, TrainingArguments, pipeline\n",
        "\n",
        "reviews = [\n",
        "    (\"This movie was amazing!\", 1),\n",
        "    (\"Terrible experience, hated it.\", 0),\n",
        "    (\"It was okay, not great.\", 0),\n",
        "    (\"Absolutely loved it!\", 1),\n",
        "]\n",
        "\n",
        "dataset = Dataset.from_dict({\n",
        "    \"text\": [review[0] for review in reviews],\n",
        "    \"label\": [review[1] for review in reviews]\n",
        "})\n",
        "\n",
        "# Load model and tokenizer\n",
        "model_name = \"distilbert-base-uncased\"\n",
        "tokenizer = AutoTokenizer.from_pretrained(model_name)\n",
        "model = AutoModelForSequenceClassification.from_pretrained(model_name, num_labels=2)\n",
        "\n",
        "# Tokenize data\n",
        "def tokenize_function(examples):\n",
        "    return tokenizer(examples[\"text\"], padding=\"max_length\", truncation=True)\n",
        "\n",
        "tokenized_data = dataset.map(tokenize_function, batched=True)\n",
        "\n",
        "# Fine-tune\n",
        "trainer = Trainer(\n",
        "    model=model,\n",
        "    args=TrainingArguments(\n",
        "        output_dir=\"./results\",\n",
        "        num_train_epochs=3,\n",
        "        per_device_train_batch_size=2,\n",
        "    ),\n",
        "    train_dataset=tokenized_data,\n",
        ")\n",
        "\n",
        "trainer.train()\n",
        "\n",
        "# Explicitly save the model and tokenizer after training\n",
        "trainer.save_model(\"./results\")\n",
        "tokenizer.save_pretrained(\"./results\")\n",
        "\n",
        "# Compare with original model\n",
        "original_model = pipeline(\"sentiment-analysis\", model=\"distilbert-base-uncased\")\n",
        "print(\"Original:\", original_model(\"This movie was great!\"))\n",
        "\n",
        "# Now, the pipeline should be able to load the fine-tuned model from ./results\n",
        "fine_tuned_model = pipeline(\"sentiment-analysis\", model=\"./results\")\n",
        "print(\"Fine-tuned:\", fine_tuned_model(\"This movie was great!\"))"
      ]
    },
    {
      "cell_type": "code",
      "execution_count": null,
      "metadata": {
        "colab": {
          "base_uri": "https://localhost:8080/"
        },
        "id": "qcvqKV76iH5_",
        "outputId": "111f8812-b5e3-4a3a-eb7a-34b5e6cabe20"
      },
      "outputs": [
        {
          "name": "stdout",
          "output_type": "stream",
          "text": [
            "Epoch 1/5\n"
          ]
        },
        {
          "name": "stderr",
          "output_type": "stream",
          "text": [
            "/usr/local/lib/python3.11/dist-packages/keras/src/layers/core/embedding.py:90: UserWarning: Argument `input_length` is deprecated. Just remove it.\n",
            "  warnings.warn(\n"
          ]
        },
        {
          "name": "stdout",
          "output_type": "stream",
          "text": [
            "\u001b[1m1/1\u001b[0m \u001b[32m━━━━━━━━━━━━━━━━━━━━\u001b[0m\u001b[37m\u001b[0m \u001b[1m11s\u001b[0m 11s/step - accuracy: 1.0000 - loss: 0.6892\n",
            "Epoch 2/5\n",
            "\u001b[1m1/1\u001b[0m \u001b[32m━━━━━━━━━━━━━━━━━━━━\u001b[0m\u001b[37m\u001b[0m \u001b[1m0s\u001b[0m 313ms/step - accuracy: 0.6667 - loss: 0.6853\n",
            "Epoch 3/5\n",
            "\u001b[1m1/1\u001b[0m \u001b[32m━━━━━━━━━━━━━━━━━━━━\u001b[0m\u001b[37m\u001b[0m \u001b[1m0s\u001b[0m 134ms/step - accuracy: 0.6667 - loss: 0.6815\n",
            "Epoch 4/5\n",
            "\u001b[1m1/1\u001b[0m \u001b[32m━━━━━━━━━━━━━━━━━━━━\u001b[0m\u001b[37m\u001b[0m \u001b[1m0s\u001b[0m 205ms/step - accuracy: 0.6667 - loss: 0.6777\n",
            "Epoch 5/5\n",
            "\u001b[1m1/1\u001b[0m \u001b[32m━━━━━━━━━━━━━━━━━━━━\u001b[0m\u001b[37m\u001b[0m \u001b[1m0s\u001b[0m 218ms/step - accuracy: 0.6667 - loss: 0.6739\n",
            "\u001b[1m1/1\u001b[0m \u001b[32m━━━━━━━━━━━━━━━━━━━━\u001b[0m\u001b[37m\u001b[0m \u001b[1m1s\u001b[0m 556ms/step\n",
            "[[0.4776693]]\n"
          ]
        }
      ],
      "source": [
        "# Prepare data\n",
        "import tensorflow as tf\n",
        "from tensorflow.keras.preprocessing.text import Tokenizer\n",
        "from tensorflow.keras.preprocessing.sequence import pad_sequences\n",
        "import numpy as np # Import numpy\n",
        "\n",
        "texts = [\"I love this!\", \"I hate it\", \"It was okay\"]\n",
        "labels = [1, 0, 0]  # 1=positive, 0=negative\n",
        "\n",
        "tokenizer = Tokenizer(num_words=100)\n",
        "tokenizer.fit_on_texts(texts)\n",
        "sequences = tokenizer.texts_to_sequences(texts)\n",
        "padded_sequences = pad_sequences(sequences, maxlen=5)\n",
        "\n",
        "# Convert labels to a NumPy array\n",
        "labels = np.array(labels)\n",
        "\n",
        "# Build GRU model\n",
        "model = tf.keras.Sequential([\n",
        "    tf.keras.layers.Embedding(100, 16, input_length=5),\n",
        "    tf.keras.layers.GRU(32),\n",
        "    tf.keras.layers.Dense(1, activation=\"sigmoid\")\n",
        "])\n",
        "\n",
        "model.compile(optimizer=\"adam\", loss=\"binary_crossentropy\", metrics=[\"accuracy\"])\n",
        "model.fit(padded_sequences, labels, epochs=5)\n",
        "\n",
        "# Test model\n",
        "test_text = \"I liked it\"\n",
        "test_seq = tokenizer.texts_to_sequences([test_text])\n",
        "test_padded = pad_sequences(test_seq, maxlen=5)\n",
        "print(model.predict(test_padded))  # >0.5 = positive"
      ]
    },
    {
      "cell_type": "code",
      "execution_count": null,
      "metadata": {
        "colab": {
          "base_uri": "https://localhost:8080/"
        },
        "id": "I0xsy9V0igb1",
        "outputId": "f2b9a928-e70d-4932-990c-4cc397e2672b"
      },
      "outputs": [
        {
          "name": "stdout",
          "output_type": "stream",
          "text": [
            "Requirement already satisfied: textblob in /usr/local/lib/python3.11/dist-packages (0.19.0)\n",
            "Requirement already satisfied: nltk>=3.9 in /usr/local/lib/python3.11/dist-packages (from textblob) (3.9.1)\n",
            "Requirement already satisfied: click in /usr/local/lib/python3.11/dist-packages (from nltk>=3.9->textblob) (8.2.0)\n",
            "Requirement already satisfied: joblib in /usr/local/lib/python3.11/dist-packages (from nltk>=3.9->textblob) (1.5.0)\n",
            "Requirement already satisfied: regex>=2021.8.3 in /usr/local/lib/python3.11/dist-packages (from nltk>=3.9->textblob) (2024.11.6)\n",
            "Requirement already satisfied: tqdm in /usr/local/lib/python3.11/dist-packages (from nltk>=3.9->textblob) (4.67.1)\n",
            "[nltk_data] Downloading package brown to /root/nltk_data...\n",
            "[nltk_data]   Unzipping corpora/brown.zip.\n",
            "[nltk_data] Downloading package punkt_tab to /root/nltk_data...\n",
            "[nltk_data]   Unzipping tokenizers/punkt_tab.zip.\n",
            "[nltk_data] Downloading package wordnet to /root/nltk_data...\n",
            "[nltk_data] Downloading package averaged_perceptron_tagger_eng to\n",
            "[nltk_data]     /root/nltk_data...\n",
            "[nltk_data]   Unzipping taggers/averaged_perceptron_tagger_eng.zip.\n",
            "[nltk_data] Downloading package conll2000 to /root/nltk_data...\n",
            "[nltk_data]   Unzipping corpora/conll2000.zip.\n",
            "[nltk_data] Downloading package movie_reviews to /root/nltk_data...\n",
            "[nltk_data]   Unzipping corpora/movie_reviews.zip.\n",
            "Finished.\n",
            "Sentiment(polarity=0.625, subjectivity=0.6)\n",
            "TextBlob: Sentiment(polarity=-0.6999999999999998, subjectivity=0.6666666666666666)\n",
            "Fine-tuned Model: [{'label': 'LABEL_1', 'score': 0.5547599792480469}]\n"
          ]
        }
      ],
      "source": [
        "# Install TextBlob\n",
        "!pip install textblob\n",
        "!python -m textblob.download_corpora\n",
        "\n",
        "# Run sentiment analysis\n",
        "from textblob import TextBlob\n",
        "\n",
        "text = \"I love this movie!\"\n",
        "blob = TextBlob(text)\n",
        "print(blob.sentiment)  # Polarity (-1 to 1), Subjectivity (0 to 1)\n",
        "\n",
        "# Compare with fine-tuned model\n",
        "print(\"TextBlob:\", TextBlob(\"This movie was bad\").sentiment)\n",
        "print(\"Fine-tuned Model:\", fine_tuned_model(\"This movie was bad\"))"
      ]
    },
    {
      "cell_type": "markdown",
      "metadata": {
        "id": "spPHHn4fjFSz"
      },
      "source": [
        "#**VERSION 2**"
      ]
    },
    {
      "cell_type": "code",
      "execution_count": null,
      "metadata": {
        "colab": {
          "base_uri": "https://localhost:8080/",
          "height": 477
        },
        "id": "pCpNgrRbjIyw",
        "outputId": "8e063b69-87f7-40ae-f17f-2f36fc4444d9"
      },
      "outputs": [
        {
          "name": "stdout",
          "output_type": "stream",
          "text": [
            "Downloading data from https://storage.googleapis.com/tensorflow/keras-applications/vgg16/vgg16_weights_tf_dim_ordering_tf_kernels_notop.h5\n",
            "\u001b[1m58889256/58889256\u001b[0m \u001b[32m━━━━━━━━━━━━━━━━━━━━\u001b[0m\u001b[37m\u001b[0m \u001b[1m2s\u001b[0m 0us/step\n"
          ]
        },
        {
          "ename": "FileNotFoundError",
          "evalue": "[Errno 2] No such file or directory: 'path_to_train_data'",
          "output_type": "error",
          "traceback": [
            "\u001b[0;31m---------------------------------------------------------------------------\u001b[0m",
            "\u001b[0;31mFileNotFoundError\u001b[0m                         Traceback (most recent call last)",
            "\u001b[0;32m<ipython-input-23-2015e295c476>\u001b[0m in \u001b[0;36m<cell line: 0>\u001b[0;34m()\u001b[0m\n\u001b[1;32m     31\u001b[0m \u001b[0mtest_datagen\u001b[0m \u001b[0;34m=\u001b[0m \u001b[0mImageDataGenerator\u001b[0m\u001b[0;34m(\u001b[0m\u001b[0mrescale\u001b[0m\u001b[0;34m=\u001b[0m\u001b[0;36m1.\u001b[0m\u001b[0;34m/\u001b[0m\u001b[0;36m255\u001b[0m\u001b[0;34m)\u001b[0m\u001b[0;34m\u001b[0m\u001b[0;34m\u001b[0m\u001b[0m\n\u001b[1;32m     32\u001b[0m \u001b[0;34m\u001b[0m\u001b[0m\n\u001b[0;32m---> 33\u001b[0;31m train_generator = train_datagen.flow_from_directory(\n\u001b[0m\u001b[1;32m     34\u001b[0m     \u001b[0;34m'path_to_train_data'\u001b[0m\u001b[0;34m,\u001b[0m  \u001b[0;31m# Path to training data\u001b[0m\u001b[0;34m\u001b[0m\u001b[0;34m\u001b[0m\u001b[0m\n\u001b[1;32m     35\u001b[0m     \u001b[0mtarget_size\u001b[0m\u001b[0;34m=\u001b[0m\u001b[0;34m(\u001b[0m\u001b[0;36m150\u001b[0m\u001b[0;34m,\u001b[0m \u001b[0;36m150\u001b[0m\u001b[0;34m)\u001b[0m\u001b[0;34m,\u001b[0m\u001b[0;34m\u001b[0m\u001b[0;34m\u001b[0m\u001b[0m\n",
            "\u001b[0;32m/usr/local/lib/python3.11/dist-packages/keras/src/legacy/preprocessing/image.py\u001b[0m in \u001b[0;36mflow_from_directory\u001b[0;34m(self, directory, target_size, color_mode, classes, class_mode, batch_size, shuffle, seed, save_to_dir, save_prefix, save_format, follow_links, subset, interpolation, keep_aspect_ratio)\u001b[0m\n\u001b[1;32m   1136\u001b[0m         \u001b[0mkeep_aspect_ratio\u001b[0m\u001b[0;34m=\u001b[0m\u001b[0;32mFalse\u001b[0m\u001b[0;34m,\u001b[0m\u001b[0;34m\u001b[0m\u001b[0;34m\u001b[0m\u001b[0m\n\u001b[1;32m   1137\u001b[0m     ):\n\u001b[0;32m-> 1138\u001b[0;31m         return DirectoryIterator(\n\u001b[0m\u001b[1;32m   1139\u001b[0m             \u001b[0mdirectory\u001b[0m\u001b[0;34m,\u001b[0m\u001b[0;34m\u001b[0m\u001b[0;34m\u001b[0m\u001b[0m\n\u001b[1;32m   1140\u001b[0m             \u001b[0mself\u001b[0m\u001b[0;34m,\u001b[0m\u001b[0;34m\u001b[0m\u001b[0;34m\u001b[0m\u001b[0m\n",
            "\u001b[0;32m/usr/local/lib/python3.11/dist-packages/keras/src/legacy/preprocessing/image.py\u001b[0m in \u001b[0;36m__init__\u001b[0;34m(self, directory, image_data_generator, target_size, color_mode, classes, class_mode, batch_size, shuffle, seed, data_format, save_to_dir, save_prefix, save_format, follow_links, subset, interpolation, keep_aspect_ratio, dtype)\u001b[0m\n\u001b[1;32m    451\u001b[0m         \u001b[0;32mif\u001b[0m \u001b[0;32mnot\u001b[0m \u001b[0mclasses\u001b[0m\u001b[0;34m:\u001b[0m\u001b[0;34m\u001b[0m\u001b[0;34m\u001b[0m\u001b[0m\n\u001b[1;32m    452\u001b[0m             \u001b[0mclasses\u001b[0m \u001b[0;34m=\u001b[0m \u001b[0;34m[\u001b[0m\u001b[0;34m]\u001b[0m\u001b[0;34m\u001b[0m\u001b[0;34m\u001b[0m\u001b[0m\n\u001b[0;32m--> 453\u001b[0;31m             \u001b[0;32mfor\u001b[0m \u001b[0msubdir\u001b[0m \u001b[0;32min\u001b[0m \u001b[0msorted\u001b[0m\u001b[0;34m(\u001b[0m\u001b[0mos\u001b[0m\u001b[0;34m.\u001b[0m\u001b[0mlistdir\u001b[0m\u001b[0;34m(\u001b[0m\u001b[0mdirectory\u001b[0m\u001b[0;34m)\u001b[0m\u001b[0;34m)\u001b[0m\u001b[0;34m:\u001b[0m\u001b[0;34m\u001b[0m\u001b[0;34m\u001b[0m\u001b[0m\n\u001b[0m\u001b[1;32m    454\u001b[0m                 \u001b[0;32mif\u001b[0m \u001b[0mos\u001b[0m\u001b[0;34m.\u001b[0m\u001b[0mpath\u001b[0m\u001b[0;34m.\u001b[0m\u001b[0misdir\u001b[0m\u001b[0;34m(\u001b[0m\u001b[0mos\u001b[0m\u001b[0;34m.\u001b[0m\u001b[0mpath\u001b[0m\u001b[0;34m.\u001b[0m\u001b[0mjoin\u001b[0m\u001b[0;34m(\u001b[0m\u001b[0mdirectory\u001b[0m\u001b[0;34m,\u001b[0m \u001b[0msubdir\u001b[0m\u001b[0;34m)\u001b[0m\u001b[0;34m)\u001b[0m\u001b[0;34m:\u001b[0m\u001b[0;34m\u001b[0m\u001b[0;34m\u001b[0m\u001b[0m\n\u001b[1;32m    455\u001b[0m                     \u001b[0mclasses\u001b[0m\u001b[0;34m.\u001b[0m\u001b[0mappend\u001b[0m\u001b[0;34m(\u001b[0m\u001b[0msubdir\u001b[0m\u001b[0;34m)\u001b[0m\u001b[0;34m\u001b[0m\u001b[0;34m\u001b[0m\u001b[0m\n",
            "\u001b[0;31mFileNotFoundError\u001b[0m: [Errno 2] No such file or directory: 'path_to_train_data'"
          ]
        }
      ],
      "source": [
        "# Import necessary libraries\n",
        "import tensorflow as tf\n",
        "from tensorflow.keras import layers, models\n",
        "from tensorflow.keras.applications import VGG16\n",
        "from tensorflow.keras.preprocessing.image import ImageDataGenerator\n",
        "from tensorflow.keras.optimizers import Adam\n",
        "from tensorflow.keras.models import Model\n",
        "\n",
        "# Load the pre-trained VGG16 model, exclude the top layer (include_top=False)\n",
        "base_model = VGG16(weights='imagenet', include_top=False, input_shape=(150, 150, 3))\n",
        "\n",
        "# Freeze the base model (i.e., layers are not trainable)\n",
        "for layer in base_model.layers:\n",
        "    layer.trainable = False\n",
        "\n",
        "# Add new custom layers for fine-tuning\n",
        "x = layers.Flatten()(base_model.output)\n",
        "x = layers.Dense(256, activation='relu')(x)\n",
        "x = layers.Dropout(0.5)(x)  # Add dropout to reduce overfitting\n",
        "x = layers.Dense(1, activation='sigmoid')(x)  # Binary classification (change to 'softmax' for multi-class)\n",
        "\n",
        "# Combine base model and custom layers\n",
        "fine_tune_model = Model(inputs=base_model.input, outputs=x)\n",
        "\n",
        "# Compile the model with Adam optimizer and binary cross-entropy loss\n",
        "fine_tune_model.compile(optimizer=Adam(learning_rate=0.0001), loss='binary_crossentropy', metrics=['accuracy'])\n",
        "\n",
        "# Setup data generators for training and validation datasets\n",
        "train_datagen = ImageDataGenerator(rescale=1./255, rotation_range=20, zoom_range=0.15, width_shift_range=0.2,\n",
        "                                   height_shift_range=0.2, shear_range=0.15, horizontal_flip=True, fill_mode=\"nearest\")\n",
        "test_datagen = ImageDataGenerator(rescale=1./255)\n",
        "\n",
        "train_generator = train_datagen.flow_from_directory(\n",
        "    'path_to_train_data',  # Path to training data\n",
        "    target_size=(150, 150),\n",
        "    batch_size=32,\n",
        "    class_mode='binary')\n",
        "\n",
        "validation_generator = test_datagen.flow_from_directory(\n",
        "    'path_to_validation_data',  # Path to validation data\n",
        "    target_size=(150, 150),\n",
        "    batch_size=32,\n",
        "    class_mode='binary')\n",
        "\n",
        "# Fine-tune the model (train the top layers)\n",
        "history_fine_tune = fine_tune_model.fit(\n",
        "    train_generator,\n",
        "    steps_per_epoch=train_generator.samples // train_generator.batch_size,\n",
        "    validation_data=validation_generator,\n",
        "    validation_steps=validation_generator.samples // validation_generator.batch_size,\n",
        "    epochs=10  # Train for 10 epochs (adjust as needed)\n",
        ")\n",
        "\n",
        "# Load pre-trained model (VGG16) without fine-tuning\n",
        "pretrained_model = VGG16(weights='imagenet', include_top=False, input_shape=(150, 150, 3))\n",
        "\n",
        "# Freeze all layers\n",
        "for layer in pretrained_model.layers:\n",
        "    layer.trainable = False\n",
        "\n",
        "# Add custom classifier on top of frozen pre-trained model\n",
        "x = layers.Flatten()(pretrained_model.output)\n",
        "x = layers.Dense(256, activation='relu')(x)\n",
        "x = layers.Dropout(0.5)(x)\n",
        "x = layers.Dense(1, activation='sigmoid')(x)  # Binary classification\n",
        "\n",
        "# Build model\n",
        "off_the_shelf_model = Model(inputs=pretrained_model.input, outputs=x)\n",
        "\n",
        "# Compile the off-the-shelf model\n",
        "off_the_shelf_model.compile(optimizer=Adam(learning_rate=0.0001), loss='binary_crossentropy', metrics=['accuracy'])\n",
        "\n",
        "# Evaluate the off-the-shelf model without training\n",
        "off_the_shelf_loss, off_the_shelf_accuracy = off_the_shelf_model.evaluate(validation_generator)\n",
        "\n",
        "print(f\"Off-the-Shelf Pre-Trained Model Accuracy: {off_the_shelf_accuracy * 100:.2f}%\")\n",
        "\n",
        "# Fine-tuned model evaluation\n",
        "fine_tune_loss, fine_tune_accuracy = fine_tune_model.evaluate(validation_generator)\n",
        "\n",
        "print(f\"Fine-Tuned Model Accuracy: {fine_tune_accuracy * 100:.2f}%\")\n",
        "print(f\"Off-the-Shelf Pre-Trained Model Accuracy: {off_the_shelf_accuracy * 100:.2f}%\")\n"
      ]
    },
    {
      "cell_type": "code",
      "execution_count": null,
      "metadata": {
        "colab": {
          "background_save": true,
          "base_uri": "https://localhost:8080/"
        },
        "id": "HFqNYyFAjKaH",
        "outputId": "1582397f-fee6-4da6-cfcf-7b4537d6e962"
      },
      "outputs": [
        {
          "name": "stdout",
          "output_type": "stream",
          "text": [
            "Downloading data from https://storage.googleapis.com/tensorflow/tf-keras-datasets/imdb.npz\n",
            "\u001b[1m17464789/17464789\u001b[0m \u001b[32m━━━━━━━━━━━━━━━━━━━━\u001b[0m\u001b[37m\u001b[0m \u001b[1m1s\u001b[0m 0us/step\n",
            "Epoch 1/5\n",
            "391/391 - 311s - 796ms/step - accuracy: 0.7959 - loss: 0.4324 - val_accuracy: 0.8510 - val_loss: 0.4006\n",
            "Epoch 2/5\n",
            "391/391 - 321s - 821ms/step - accuracy: 0.9001 - loss: 0.2535 - val_accuracy: 0.8576 - val_loss: 0.3773\n",
            "Epoch 3/5\n",
            "391/391 - 312s - 799ms/step - accuracy: 0.8987 - loss: 0.2533 - val_accuracy: 0.8432 - val_loss: 0.3881\n",
            "Epoch 4/5\n",
            "391/391 - 328s - 838ms/step - accuracy: 0.9369 - loss: 0.1671 - val_accuracy: 0.8326 - val_loss: 0.4334\n",
            "Epoch 5/5\n",
            "391/391 - 319s - 817ms/step - accuracy: 0.9477 - loss: 0.1407 - val_accuracy: 0.8284 - val_loss: 0.4476\n",
            "LSTM Model Accuracy: 82.84%\n",
            "Epoch 1/5\n",
            "391/391 - 321s - 822ms/step - accuracy: 0.7129 - loss: 0.5489 - val_accuracy: 0.8024 - val_loss: 0.4442\n",
            "Epoch 2/5\n",
            "391/391 - 317s - 811ms/step - accuracy: 0.8576 - loss: 0.3385 - val_accuracy: 0.8366 - val_loss: 0.3798\n",
            "Epoch 3/5\n",
            "391/391 - 325s - 832ms/step - accuracy: 0.9100 - loss: 0.2338 - val_accuracy: 0.8658 - val_loss: 0.3370\n",
            "Epoch 4/5\n",
            "391/391 - 322s - 823ms/step - accuracy: 0.9442 - loss: 0.1539 - val_accuracy: 0.8519 - val_loss: 0.3877\n",
            "Epoch 5/5\n",
            "391/391 - 319s - 816ms/step - accuracy: 0.9650 - loss: 0.1056 - val_accuracy: 0.8288 - val_loss: 0.4862\n",
            "GRU Model Accuracy: 82.88%\n"
          ]
        },
        {
          "data": {
            "image/png": "[encoded data removed]",
            "text/plain": [
              "<Figure size 1200x500 with 2 Axes>"
            ]
          },
          "metadata": {},
          "output_type": "display_data"
        },
        {
          "name": "stdout",
          "output_type": "stream",
          "text": [
            "LSTM Model Accuracy: 82.84%\n",
            "GRU Model Accuracy: 82.88%\n"
          ]
        }
      ],
      "source": [
        "import tensorflow as tf\n",
        "from tensorflow.keras.datasets import imdb\n",
        "from tensorflow.keras.preprocessing.sequence import pad_sequences\n",
        "from tensorflow.keras import layers, models\n",
        "import matplotlib.pyplot as plt\n",
        "\n",
        "# Load the IMDb dataset\n",
        "max_words = 10000  # Consider the top 10,000 most frequent words\n",
        "max_len = 200  # Pad sequences to a maximum length of 200 words\n",
        "\n",
        "(X_train, y_train), (X_test, y_test) = imdb.load_data(num_words=max_words)\n",
        "\n",
        "# Pad sequences to ensure all inputs are of the same length\n",
        "X_train = pad_sequences(X_train, maxlen=max_len)\n",
        "X_test = pad_sequences(X_test, maxlen=max_len)\n",
        "\n",
        "def build_lstm_model():\n",
        "    model = models.Sequential()\n",
        "    model.add(layers.Embedding(input_dim=max_words, output_dim=128, input_length=max_len))\n",
        "    model.add(layers.LSTM(128, return_sequences=False))  # LSTM layer\n",
        "    model.add(layers.Dense(1, activation='sigmoid'))  # Binary classification (positive/negative)\n",
        "\n",
        "    model.compile(optimizer='adam', loss='binary_crossentropy', metrics=['accuracy'])\n",
        "    return model\n",
        "\n",
        "lstm_model = build_lstm_model()\n",
        "\n",
        "# Train the LSTM model\n",
        "history_lstm = lstm_model.fit(X_train, y_train, epochs=5, batch_size=64, validation_data=(X_test, y_test), verbose=2)\n",
        "\n",
        "# Evaluate the LSTM model\n",
        "lstm_loss, lstm_accuracy = lstm_model.evaluate(X_test, y_test, verbose=0)\n",
        "print(f\"LSTM Model Accuracy: {lstm_accuracy * 100:.2f}%\")\n",
        "\n",
        "def build_gru_model():\n",
        "    model = models.Sequential()\n",
        "    model.add(layers.Embedding(input_dim=max_words, output_dim=128, input_length=max_len))\n",
        "    model.add(layers.GRU(128, return_sequences=False))  # GRU layer\n",
        "    model.add(layers.Dense(1, activation='sigmoid'))  # Binary classification\n",
        "\n",
        "    model.compile(optimizer='adam', loss='binary_crossentropy', metrics=['accuracy'])\n",
        "    return model\n",
        "\n",
        "gru_model = build_gru_model()\n",
        "\n",
        "# Train the GRU model\n",
        "history_gru = gru_model.fit(X_train, y_train, epochs=5, batch_size=64, validation_data=(X_test, y_test), verbose=2)\n",
        "\n",
        "# Evaluate the GRU model\n",
        "gru_loss, gru_accuracy = gru_model.evaluate(X_test, y_test, verbose=0)\n",
        "print(f\"GRU Model Accuracy: {gru_accuracy * 100:.2f}%\")\n",
        "\n",
        "# Plot the accuracy and loss curves for both models\n",
        "def plot_learning_curves(history_lstm, history_gru):\n",
        "    plt.figure(figsize=(12, 5))\n",
        "\n",
        "    # Plot accuracy\n",
        "    plt.subplot(1, 2, 1)\n",
        "    plt.plot(history_lstm.history['accuracy'], label='LSTM Training Accuracy')\n",
        "    plt.plot(history_lstm.history['val_accuracy'], label='LSTM Validation Accuracy')\n",
        "    plt.plot(history_gru.history['accuracy'], label='GRU Training Accuracy')\n",
        "    plt.plot(history_gru.history['val_accuracy'], label='GRU Validation Accuracy')\n",
        "    plt.title('Accuracy: LSTM vs GRU')\n",
        "    plt.xlabel('Epochs')\n",
        "    plt.ylabel('Accuracy')\n",
        "    plt.legend()\n",
        "\n",
        "    # Plot loss\n",
        "    plt.subplot(1, 2, 2)\n",
        "    plt.plot(history_lstm.history['loss'], label='LSTM Training Loss')\n",
        "    plt.plot(history_lstm.history['val_loss'], label='LSTM Validation Loss')\n",
        "    plt.plot(history_gru.history['loss'], label='GRU Training Loss')\n",
        "    plt.plot(history_gru.history['val_loss'], label='GRU Validation Loss')\n",
        "    plt.title('Loss: LSTM vs GRU')\n",
        "    plt.xlabel('Epochs')\n",
        "    plt.ylabel('Loss')\n",
        "    plt.legend()\n",
        "\n",
        "    plt.show()\n",
        "\n",
        "# Call the function to plot the learning curves\n",
        "plot_learning_curves(history_lstm, history_gru)\n",
        "\n",
        "# Print model comparison\n",
        "print(f\"LSTM Model Accuracy: {lstm_accuracy * 100:.2f}%\")\n",
        "print(f\"GRU Model Accuracy: {gru_accuracy * 100:.2f}%\")"
      ]
    },
    {
      "cell_type": "code",
      "execution_count": null,
      "metadata": {
        "colab": {
          "background_save": true
        },
        "id": "5joi4mZrjQCf",
        "outputId": "cc1f38dc-84d4-4ba3-af75-9c46323a7e91"
      },
      "outputs": [
        {
          "name": "stdout",
          "output_type": "stream",
          "text": [
            "Downloading data from https://storage.googleapis.com/tensorflow/tf-keras-datasets/imdb_word_index.json\n",
            "\u001b[1m1641221/1641221\u001b[0m \u001b[32m━━━━━━━━━━━━━━━━━━━━\u001b[0m\u001b[37m\u001b[0m \u001b[1m1s\u001b[0m 0us/step\n",
            "TextBlob Sentiment Analysis Accuracy: 66.50%\n",
            "Epoch 1/3\n",
            "391/391 - 303s - 774ms/step - accuracy: 0.7892 - loss: 0.4405 - val_accuracy: 0.8203 - val_loss: 0.4055\n",
            "Epoch 2/3\n",
            "391/391 - 328s - 839ms/step - accuracy: 0.8984 - loss: 0.2574 - val_accuracy: 0.8392 - val_loss: 0.3605\n",
            "Epoch 3/3\n",
            "391/391 - 299s - 765ms/step - accuracy: 0.9170 - loss: 0.2147 - val_accuracy: 0.8580 - val_loss: 0.3458\n",
            "LSTM Model Accuracy: 85.80%\n",
            "TextBlob Sentiment Analysis Accuracy: 66.50%\n",
            "LSTM Model Accuracy: 85.80%\n"
          ]
        }
      ],
      "source": [
        "from textblob import TextBlob\n",
        "from tensorflow.keras.datasets import imdb\n",
        "from tensorflow.keras.preprocessing.sequence import pad_sequences\n",
        "import tensorflow as tf\n",
        "from tensorflow.keras import layers, models\n",
        "from tensorflow.keras.preprocessing.text import Tokenizer\n",
        "import numpy as np\n",
        "\n",
        "# Load the IMDb dataset\n",
        "max_words = 10000  # Only consider the top 10,000 most frequent words\n",
        "max_len = 200  # Pad sequences to a maximum length of 200 words\n",
        "\n",
        "(X_train, y_train), (X_test, y_test) = imdb.load_data(num_words=max_words)\n",
        "\n",
        "# Convert IMDb integer sequences back to words for TextBlob\n",
        "word_index = imdb.get_word_index()\n",
        "reverse_word_index = {v: k for k, v in word_index.items()}\n",
        "\n",
        "# Function to decode sequences back to text\n",
        "def decode_review(text_sequence):\n",
        "    return ' '.join([reverse_word_index.get(i - 3, '?') for i in text_sequence])\n",
        "\n",
        "# Decode some test sequences to evaluate with TextBlob\n",
        "X_test_texts = [decode_review(sequence) for sequence in X_test[:1000]]  # Evaluate 1000 reviews\n",
        "\n",
        "# Prepare input data for deep learning models (LSTM/GRU)\n",
        "X_train = pad_sequences(X_train, maxlen=max_len)\n",
        "X_test = pad_sequences(X_test, maxlen=max_len)\n",
        "\n",
        "# Use TextBlob for sentiment analysis on the test data\n",
        "textblob_sentiments = []\n",
        "\n",
        "for review in X_test_texts:\n",
        "    blob = TextBlob(review)\n",
        "    # TextBlob returns polarity: -1 (negative), 1 (positive), 0 (neutral)\n",
        "    sentiment_score = blob.sentiment.polarity\n",
        "    # Convert polarity to binary sentiment (similar to LSTM/GRU model)\n",
        "    sentiment_label = 1 if sentiment_score > 0 else 0  # 1: positive, 0: negative\n",
        "    textblob_sentiments.append(sentiment_label)\n",
        "\n",
        "# TextBlob predicted labels\n",
        "textblob_sentiments = np.array(textblob_sentiments)\n",
        "\n",
        "# Evaluate TextBlob accuracy\n",
        "textblob_accuracy = np.mean(textblob_sentiments == y_test[:1000])\n",
        "print(f\"TextBlob Sentiment Analysis Accuracy: {textblob_accuracy * 100:.2f}%\")\n",
        "\n",
        "# Define and train an LSTM model for comparison\n",
        "def build_lstm_model():\n",
        "    model = models.Sequential()\n",
        "    model.add(layers.Embedding(input_dim=max_words, output_dim=128, input_length=max_len))\n",
        "    model.add(layers.LSTM(128, return_sequences=False))\n",
        "    model.add(layers.Dense(1, activation='sigmoid'))  # Binary classification (positive/negative)\n",
        "\n",
        "    model.compile(optimizer='adam', loss='binary_crossentropy', metrics=['accuracy'])\n",
        "    return model\n",
        "\n",
        "lstm_model = build_lstm_model()\n",
        "\n",
        "# Train the LSTM model (for simplicity, train on a subset)\n",
        "history_lstm = lstm_model.fit(X_train, y_train, epochs=3, batch_size=64, validation_data=(X_test, y_test), verbose=2)\n",
        "\n",
        "# Evaluate LSTM model on the same test data\n",
        "lstm_loss, lstm_accuracy = lstm_model.evaluate(X_test, y_test, verbose=0)\n",
        "print(f\"LSTM Model Accuracy: {lstm_accuracy * 100:.2f}%\")\n",
        "\n",
        "print(f\"TextBlob Sentiment Analysis Accuracy: {textblob_accuracy * 100:.2f}%\")\n",
        "print(f\"LSTM Model Accuracy: {lstm_accuracy * 100:.2f}%\")"
      ]
    }
  ],
  "metadata": {
    "colab": {
      "provenance": [],
      "authorship_tag": "ABX9TyNMdYLpmkzuipHh+5TCjhSd",
      "include_colab_link": true
    },
    "kernelspec": {
      "display_name": "Python 3",
      "name": "python3"
    },
    "language_info": {
      "name": "python"
    },
    "widgets": {
      "application/vnd.jupyter.widget-state+json": {
        "113e6035067142c7981668acb96bfdda": {
          "model_module": "@jupyter-widgets/controls",
          "model_module_version": "1.5.0",
          "model_name": "DescriptionStyleModel",
          "state": {
            "_model_module": "@jupyter-widgets/controls",
            "_model_module_version": "1.5.0",
            "_model_name": "DescriptionStyleModel",
            "_view_count": null,
            "_view_module": "@jupyter-widgets/base",
            "_view_module_version": "1.2.0",
            "_view_name": "StyleView",
            "description_width": ""
          }
        },
        "1e4c6e09a0d84329ad15b6232a9911f9": {
          "model_module": "@jupyter-widgets/controls",
          "model_module_version": "1.5.0",
          "model_name": "HTMLModel",
          "state": {
            "_dom_classes": [],
            "_model_module": "@jupyter-widgets/controls",
            "_model_module_version": "1.5.0",
            "_model_name": "HTMLModel",
            "_view_count": null,
            "_view_module": "@jupyter-widgets/controls",
            "_view_module_version": "1.5.0",
            "_view_name": "HTMLView",
            "description": "",
            "description_tooltip": null,
            "layout": "IPY_MODEL_b82b5f50e3204e0a82b6c67e7d74c3de",
            "placeholder": "​",
            "style": "IPY_MODEL_b3651e7eaa104621a768057c4c517ec7",
            "value": " 10/10 [00:00&lt;00:00, 206.64 examples/s]"
          }
        },
        "256de8923c34452388f1053e74cfed56": {
          "model_module": "@jupyter-widgets/base",
          "model_module_version": "1.2.0",
          "model_name": "LayoutModel",
          "state": {
            "_model_module": "@jupyter-widgets/base",
            "_model_module_version": "1.2.0",
            "_model_name": "LayoutModel",
            "_view_count": null,
            "_view_module": "@jupyter-widgets/base",
            "_view_module_version": "1.2.0",
            "_view_name": "LayoutView",
            "align_content": null,
            "align_items": null,
            "align_self": null,
            "border": null,
            "bottom": null,
            "display": null,
            "flex": null,
            "flex_flow": null,
            "grid_area": null,
            "grid_auto_columns": null,
            "grid_auto_flow": null,
            "grid_auto_rows": null,
            "grid_column": null,
            "grid_gap": null,
            "grid_row": null,
            "grid_template_areas": null,
            "grid_template_columns": null,
            "grid_template_rows": null,
            "height": null,
            "justify_content": null,
            "justify_items": null,
            "left": null,
            "margin": null,
            "max_height": null,
            "max_width": null,
            "min_height": null,
            "min_width": null,
            "object_fit": null,
            "object_position": null,
            "order": null,
            "overflow": null,
            "overflow_x": null,
            "overflow_y": null,
            "padding": null,
            "right": null,
            "top": null,
            "visibility": null,
            "width": null
          }
        },
        "556c6ab0cd334476b7470179093c72d9": {
          "model_module": "@jupyter-widgets/base",
          "model_module_version": "1.2.0",
          "model_name": "LayoutModel",
          "state": {
            "_model_module": "@jupyter-widgets/base",
            "_model_module_version": "1.2.0",
            "_model_name": "LayoutModel",
            "_view_count": null,
            "_view_module": "@jupyter-widgets/base",
            "_view_module_version": "1.2.0",
            "_view_name": "LayoutView",
            "align_content": null,
            "align_items": null,
            "align_self": null,
            "border": null,
            "bottom": null,
            "display": null,
            "flex": null,
            "flex_flow": null,
            "grid_area": null,
            "grid_auto_columns": null,
            "grid_auto_flow": null,
            "grid_auto_rows": null,
            "grid_column": null,
            "grid_gap": null,
            "grid_row": null,
            "grid_template_areas": null,
            "grid_template_columns": null,
            "grid_template_rows": null,
            "height": null,
            "justify_content": null,
            "justify_items": null,
            "left": null,
            "margin": null,
            "max_height": null,
            "max_width": null,
            "min_height": null,
            "min_width": null,
            "object_fit": null,
            "object_position": null,
            "order": null,
            "overflow": null,
            "overflow_x": null,
            "overflow_y": null,
            "padding": null,
            "right": null,
            "top": null,
            "visibility": null,
            "width": null
          }
        },
        "5ae7ac87d79d4406ba28d671b31c1064": {
          "model_module": "@jupyter-widgets/base",
          "model_module_version": "1.2.0",
          "model_name": "LayoutModel",
          "state": {
            "_model_module": "@jupyter-widgets/base",
            "_model_module_version": "1.2.0",
            "_model_name": "LayoutModel",
            "_view_count": null,
            "_view_module": "@jupyter-widgets/base",
            "_view_module_version": "1.2.0",
            "_view_name": "LayoutView",
            "align_content": null,
            "align_items": null,
            "align_self": null,
            "border": null,
            "bottom": null,
            "display": null,
            "flex": null,
            "flex_flow": null,
            "grid_area": null,
            "grid_auto_columns": null,
            "grid_auto_flow": null,
            "grid_auto_rows": null,
            "grid_column": null,
            "grid_gap": null,
            "grid_row": null,
            "grid_template_areas": null,
            "grid_template_columns": null,
            "grid_template_rows": null,
            "height": null,
            "justify_content": null,
            "justify_items": null,
            "left": null,
            "margin": null,
            "max_height": null,
            "max_width": null,
            "min_height": null,
            "min_width": null,
            "object_fit": null,
            "object_position": null,
            "order": null,
            "overflow": null,
            "overflow_x": null,
            "overflow_y": null,
            "padding": null,
            "right": null,
            "top": null,
            "visibility": null,
            "width": null
          }
        },
        "6fd0c400dd7c4fc592e766c8c14132dd": {
          "model_module": "@jupyter-widgets/base",
          "model_module_version": "1.2.0",
          "model_name": "LayoutModel",
          "state": {
            "_model_module": "@jupyter-widgets/base",
            "_model_module_version": "1.2.0",
            "_model_name": "LayoutModel",
            "_view_count": null,
            "_view_module": "@jupyter-widgets/base",
            "_view_module_version": "1.2.0",
            "_view_name": "LayoutView",
            "align_content": null,
            "align_items": null,
            "align_self": null,
            "border": null,
            "bottom": null,
            "display": null,
            "flex": null,
            "flex_flow": null,
            "grid_area": null,
            "grid_auto_columns": null,
            "grid_auto_flow": null,
            "grid_auto_rows": null,
            "grid_column": null,
            "grid_gap": null,
            "grid_row": null,
            "grid_template_areas": null,
            "grid_template_columns": null,
            "grid_template_rows": null,
            "height": null,
            "justify_content": null,
            "justify_items": null,
            "left": null,
            "margin": null,
            "max_height": null,
            "max_width": null,
            "min_height": null,
            "min_width": null,
            "object_fit": null,
            "object_position": null,
            "order": null,
            "overflow": null,
            "overflow_x": null,
            "overflow_y": null,
            "padding": null,
            "right": null,
            "top": null,
            "visibility": null,
            "width": null
          }
        },
        "72ab993a1dd34910b7a327796100e92c": {
          "model_module": "@jupyter-widgets/base",
          "model_module_version": "1.2.0",
          "model_name": "LayoutModel",
          "state": {
            "_model_module": "@jupyter-widgets/base",
            "_model_module_version": "1.2.0",
            "_model_name": "LayoutModel",
            "_view_count": null,
            "_view_module": "@jupyter-widgets/base",
            "_view_module_version": "1.2.0",
            "_view_name": "LayoutView",
            "align_content": null,
            "align_items": null,
            "align_self": null,
            "border": null,
            "bottom": null,
            "display": null,
            "flex": null,
            "flex_flow": null,
            "grid_area": null,
            "grid_auto_columns": null,
            "grid_auto_flow": null,
            "grid_auto_rows": null,
            "grid_column": null,
            "grid_gap": null,
            "grid_row": null,
            "grid_template_areas": null,
            "grid_template_columns": null,
            "grid_template_rows": null,
            "height": null,
            "justify_content": null,
            "justify_items": null,
            "left": null,
            "margin": null,
            "max_height": null,
            "max_width": null,
            "min_height": null,
            "min_width": null,
            "object_fit": null,
            "object_position": null,
            "order": null,
            "overflow": null,
            "overflow_x": null,
            "overflow_y": null,
            "padding": null,
            "right": null,
            "top": null,
            "visibility": null,
            "width": null
          }
        },
        "7586e907d02e41abba5e36c9b0ce1261": {
          "model_module": "@jupyter-widgets/controls",
          "model_module_version": "1.5.0",
          "model_name": "ProgressStyleModel",
          "state": {
            "_model_module": "@jupyter-widgets/controls",
            "_model_module_version": "1.5.0",
            "_model_name": "ProgressStyleModel",
            "_view_count": null,
            "_view_module": "@jupyter-widgets/base",
            "_view_module_version": "1.2.0",
            "_view_name": "StyleView",
            "bar_color": null,
            "description_width": ""
          }
        },
        "8dc5bf19ddc6444eabdd989e45432e96": {
          "model_module": "@jupyter-widgets/base",
          "model_module_version": "1.2.0",
          "model_name": "LayoutModel",
          "state": {
            "_model_module": "@jupyter-widgets/base",
            "_model_module_version": "1.2.0",
            "_model_name": "LayoutModel",
            "_view_count": null,
            "_view_module": "@jupyter-widgets/base",
            "_view_module_version": "1.2.0",
            "_view_name": "LayoutView",
            "align_content": null,
            "align_items": null,
            "align_self": null,
            "border": null,
            "bottom": null,
            "display": null,
            "flex": null,
            "flex_flow": null,
            "grid_area": null,
            "grid_auto_columns": null,
            "grid_auto_flow": null,
            "grid_auto_rows": null,
            "grid_column": null,
            "grid_gap": null,
            "grid_row": null,
            "grid_template_areas": null,
            "grid_template_columns": null,
            "grid_template_rows": null,
            "height": null,
            "justify_content": null,
            "justify_items": null,
            "left": null,
            "margin": null,
            "max_height": null,
            "max_width": null,
            "min_height": null,
            "min_width": null,
            "object_fit": null,
            "object_position": null,
            "order": null,
            "overflow": null,
            "overflow_x": null,
            "overflow_y": null,
            "padding": null,
            "right": null,
            "top": null,
            "visibility": null,
            "width": null
          }
        },
        "8f8d3fc65ac74c15b4f28d2fa9903e4e": {
          "model_module": "@jupyter-widgets/controls",
          "model_module_version": "1.5.0",
          "model_name": "HTMLModel",
          "state": {
            "_dom_classes": [],
            "_model_module": "@jupyter-widgets/controls",
            "_model_module_version": "1.5.0",
            "_model_name": "HTMLModel",
            "_view_count": null,
            "_view_module": "@jupyter-widgets/controls",
            "_view_module_version": "1.5.0",
            "_view_name": "HTMLView",
            "description": "",
            "description_tooltip": null,
            "layout": "IPY_MODEL_556c6ab0cd334476b7470179093c72d9",
            "placeholder": "​",
            "style": "IPY_MODEL_113e6035067142c7981668acb96bfdda",
            "value": "Map: 100%"
          }
        },
        "947a2b49e77542499ed376417975b1ea": {
          "model_module": "@jupyter-widgets/base",
          "model_module_version": "1.2.0",
          "model_name": "LayoutModel",
          "state": {
            "_model_module": "@jupyter-widgets/base",
            "_model_module_version": "1.2.0",
            "_model_name": "LayoutModel",
            "_view_count": null,
            "_view_module": "@jupyter-widgets/base",
            "_view_module_version": "1.2.0",
            "_view_name": "LayoutView",
            "align_content": null,
            "align_items": null,
            "align_self": null,
            "border": null,
            "bottom": null,
            "display": null,
            "flex": null,
            "flex_flow": null,
            "grid_area": null,
            "grid_auto_columns": null,
            "grid_auto_flow": null,
            "grid_auto_rows": null,
            "grid_column": null,
            "grid_gap": null,
            "grid_row": null,
            "grid_template_areas": null,
            "grid_template_columns": null,
            "grid_template_rows": null,
            "height": null,
            "justify_content": null,
            "justify_items": null,
            "left": null,
            "margin": null,
            "max_height": null,
            "max_width": null,
            "min_height": null,
            "min_width": null,
            "object_fit": null,
            "object_position": null,
            "order": null,
            "overflow": null,
            "overflow_x": null,
            "overflow_y": null,
            "padding": null,
            "right": null,
            "top": null,
            "visibility": null,
            "width": null
          }
        },
        "948f11267e7e4c81817ccee25d6031b5": {
          "model_module": "@jupyter-widgets/controls",
          "model_module_version": "1.5.0",
          "model_name": "FloatProgressModel",
          "state": {
            "_dom_classes": [],
            "_model_module": "@jupyter-widgets/controls",
            "_model_module_version": "1.5.0",
            "_model_name": "FloatProgressModel",
            "_view_count": null,
            "_view_module": "@jupyter-widgets/controls",
            "_view_module_version": "1.5.0",
            "_view_name": "ProgressView",
            "bar_style": "success",
            "description": "",
            "description_tooltip": null,
            "layout": "IPY_MODEL_947a2b49e77542499ed376417975b1ea",
            "max": 10,
            "min": 0,
            "orientation": "horizontal",
            "style": "IPY_MODEL_d4fbf7a244414cfaa9ebf2928da9d700",
            "value": 10
          }
        },
        "a4046d41783c45ea86e2c1b9b5be35b0": {
          "model_module": "@jupyter-widgets/controls",
          "model_module_version": "1.5.0",
          "model_name": "HTMLModel",
          "state": {
            "_dom_classes": [],
            "_model_module": "@jupyter-widgets/controls",
            "_model_module_version": "1.5.0",
            "_model_name": "HTMLModel",
            "_view_count": null,
            "_view_module": "@jupyter-widgets/controls",
            "_view_module_version": "1.5.0",
            "_view_name": "HTMLView",
            "description": "",
            "description_tooltip": null,
            "layout": "IPY_MODEL_5ae7ac87d79d4406ba28d671b31c1064",
            "placeholder": "​",
            "style": "IPY_MODEL_c159744307324a73a42dbd4ffa96e9f0",
            "value": "Map: 100%"
          }
        },
        "afd398ace2de45a18425c8a1dc500a1e": {
          "model_module": "@jupyter-widgets/controls",
          "model_module_version": "1.5.0",
          "model_name": "HBoxModel",
          "state": {
            "_dom_classes": [],
            "_model_module": "@jupyter-widgets/controls",
            "_model_module_version": "1.5.0",
            "_model_name": "HBoxModel",
            "_view_count": null,
            "_view_module": "@jupyter-widgets/controls",
            "_view_module_version": "1.5.0",
            "_view_name": "HBoxView",
            "box_style": "",
            "children": [
              "IPY_MODEL_a4046d41783c45ea86e2c1b9b5be35b0",
              "IPY_MODEL_d63bdf54fc52405582a5cede7c2721f5",
              "IPY_MODEL_d7fe9306dcd449cfb0c0c1d463bc4ace"
            ],
            "layout": "IPY_MODEL_6fd0c400dd7c4fc592e766c8c14132dd"
          }
        },
        "b3651e7eaa104621a768057c4c517ec7": {
          "model_module": "@jupyter-widgets/controls",
          "model_module_version": "1.5.0",
          "model_name": "DescriptionStyleModel",
          "state": {
            "_model_module": "@jupyter-widgets/controls",
            "_model_module_version": "1.5.0",
            "_model_name": "DescriptionStyleModel",
            "_view_count": null,
            "_view_module": "@jupyter-widgets/base",
            "_view_module_version": "1.2.0",
            "_view_name": "StyleView",
            "description_width": ""
          }
        },
        "b82b5f50e3204e0a82b6c67e7d74c3de": {
          "model_module": "@jupyter-widgets/base",
          "model_module_version": "1.2.0",
          "model_name": "LayoutModel",
          "state": {
            "_model_module": "@jupyter-widgets/base",
            "_model_module_version": "1.2.0",
            "_model_name": "LayoutModel",
            "_view_count": null,
            "_view_module": "@jupyter-widgets/base",
            "_view_module_version": "1.2.0",
            "_view_name": "LayoutView",
            "align_content": null,
            "align_items": null,
            "align_self": null,
            "border": null,
            "bottom": null,
            "display": null,
            "flex": null,
            "flex_flow": null,
            "grid_area": null,
            "grid_auto_columns": null,
            "grid_auto_flow": null,
            "grid_auto_rows": null,
            "grid_column": null,
            "grid_gap": null,
            "grid_row": null,
            "grid_template_areas": null,
            "grid_template_columns": null,
            "grid_template_rows": null,
            "height": null,
            "justify_content": null,
            "justify_items": null,
            "left": null,
            "margin": null,
            "max_height": null,
            "max_width": null,
            "min_height": null,
            "min_width": null,
            "object_fit": null,
            "object_position": null,
            "order": null,
            "overflow": null,
            "overflow_x": null,
            "overflow_y": null,
            "padding": null,
            "right": null,
            "top": null,
            "visibility": null,
            "width": null
          }
        },
        "c159744307324a73a42dbd4ffa96e9f0": {
          "model_module": "@jupyter-widgets/controls",
          "model_module_version": "1.5.0",
          "model_name": "DescriptionStyleModel",
          "state": {
            "_model_module": "@jupyter-widgets/controls",
            "_model_module_version": "1.5.0",
            "_model_name": "DescriptionStyleModel",
            "_view_count": null,
            "_view_module": "@jupyter-widgets/base",
            "_view_module_version": "1.2.0",
            "_view_name": "StyleView",
            "description_width": ""
          }
        },
        "c269a2f99d8f4f9e9b90fe9c42426539": {
          "model_module": "@jupyter-widgets/controls",
          "model_module_version": "1.5.0",
          "model_name": "HBoxModel",
          "state": {
            "_dom_classes": [],
            "_model_module": "@jupyter-widgets/controls",
            "_model_module_version": "1.5.0",
            "_model_name": "HBoxModel",
            "_view_count": null,
            "_view_module": "@jupyter-widgets/controls",
            "_view_module_version": "1.5.0",
            "_view_name": "HBoxView",
            "box_style": "",
            "children": [
              "IPY_MODEL_8f8d3fc65ac74c15b4f28d2fa9903e4e",
              "IPY_MODEL_948f11267e7e4c81817ccee25d6031b5",
              "IPY_MODEL_1e4c6e09a0d84329ad15b6232a9911f9"
            ],
            "layout": "IPY_MODEL_8dc5bf19ddc6444eabdd989e45432e96"
          }
        },
        "d4fbf7a244414cfaa9ebf2928da9d700": {
          "model_module": "@jupyter-widgets/controls",
          "model_module_version": "1.5.0",
          "model_name": "ProgressStyleModel",
          "state": {
            "_model_module": "@jupyter-widgets/controls",
            "_model_module_version": "1.5.0",
            "_model_name": "ProgressStyleModel",
            "_view_count": null,
            "_view_module": "@jupyter-widgets/base",
            "_view_module_version": "1.2.0",
            "_view_name": "StyleView",
            "bar_color": null,
            "description_width": ""
          }
        },
        "d63bdf54fc52405582a5cede7c2721f5": {
          "model_module": "@jupyter-widgets/controls",
          "model_module_version": "1.5.0",
          "model_name": "FloatProgressModel",
          "state": {
            "_dom_classes": [],
            "_model_module": "@jupyter-widgets/controls",
            "_model_module_version": "1.5.0",
            "_model_name": "FloatProgressModel",
            "_view_count": null,
            "_view_module": "@jupyter-widgets/controls",
            "_view_module_version": "1.5.0",
            "_view_name": "ProgressView",
            "bar_style": "success",
            "description": "",
            "description_tooltip": null,
            "layout": "IPY_MODEL_256de8923c34452388f1053e74cfed56",
            "max": 4,
            "min": 0,
            "orientation": "horizontal",
            "style": "IPY_MODEL_7586e907d02e41abba5e36c9b0ce1261",
            "value": 4
          }
        },
        "d7fe9306dcd449cfb0c0c1d463bc4ace": {
          "model_module": "@jupyter-widgets/controls",
          "model_module_version": "1.5.0",
          "model_name": "HTMLModel",
          "state": {
            "_dom_classes": [],
            "_model_module": "@jupyter-widgets/controls",
            "_model_module_version": "1.5.0",
            "_model_name": "HTMLModel",
            "_view_count": null,
            "_view_module": "@jupyter-widgets/controls",
            "_view_module_version": "1.5.0",
            "_view_name": "HTMLView",
            "description": "",
            "description_tooltip": null,
            "layout": "IPY_MODEL_72ab993a1dd34910b7a327796100e92c",
            "placeholder": "​",
            "style": "IPY_MODEL_f6b74f8319cb460f96767192f9c9e15e",
            "value": " 4/4 [00:00&lt;00:00, 129.99 examples/s]"
          }
        },
        "f6b74f8319cb460f96767192f9c9e15e": {
          "model_module": "@jupyter-widgets/controls",
          "model_module_version": "1.5.0",
          "model_name": "DescriptionStyleModel",
          "state": {
            "_model_module": "@jupyter-widgets/controls",
            "_model_module_version": "1.5.0",
            "_model_name": "DescriptionStyleModel",
            "_view_count": null,
            "_view_module": "@jupyter-widgets/base",
            "_view_module_version": "1.2.0",
            "_view_name": "StyleView",
            "description_width": ""
          }
        }
      }
    }
  },
  "nbformat": 4,
  "nbformat_minor": 0
}